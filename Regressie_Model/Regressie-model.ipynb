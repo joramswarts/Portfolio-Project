{
 "cells": [
  {
   "cell_type": "code",
   "execution_count": 1,
   "metadata": {},
   "outputs": [],
   "source": [
    "import pickle\n",
    "from sklearn.base import is_regressor\n",
    "import pandas as pd\n",
    "from io import StringIO\n",
    "from sklearn.model_selection import train_test_split\n",
    "from sklearn.ensemble import GradientBoostingRegressor\n",
    "from sklearn.metrics import mean_squared_error, r2_score\n",
    "from azure.identity import DefaultAzureCredential\n",
    "from azure.storage.blob import BlobServiceClient\n",
    "import os"
   ]
  },
  {
   "cell_type": "code",
   "execution_count": 2,
   "metadata": {},
   "outputs": [],
   "source": [
    "# Azure Blob Storage Configuratie\n",
    "STORAGE_ACCOUNT_NAME = \"bdtscraper\"\n",
    "CONTAINER_NAME = \"csv-files\"\n",
    "BLOB_FILES = [\"student-mat.csv\", \"student-por.csv\"]\n",
    "\n",
    "# Verbinden met Azure Blob Storage\n",
    "\n",
    "def get_blob_service_client():\n",
    "    try:\n",
    "        credential = DefaultAzureCredential()\n",
    "        return BlobServiceClient(\n",
    "            account_url=f\"https://{STORAGE_ACCOUNT_NAME}.blob.core.windows.net\", \n",
    "            credential=credential\n",
    "        )\n",
    "    except Exception as e:\n",
    "        print(f\"Fout bij het maken van BlobServiceClient: {e}\")\n",
    "        return None"
   ]
  },
  {
   "cell_type": "code",
   "execution_count": 3,
   "metadata": {},
   "outputs": [],
   "source": [
    "# Laadt een CSV-bestand vanuit Azure Blob Storage\n",
    "def load_data_from_blob(blob_name):\n",
    "    blob_service_client = get_blob_service_client()\n",
    "    if blob_service_client is None:\n",
    "        raise RuntimeError(\"BlobServiceClient kon niet worden geïnitialiseerd.\")\n",
    "    \n",
    "    blob_client = blob_service_client.get_blob_client(container=CONTAINER_NAME, blob=blob_name)\n",
    "    blob_data = blob_client.download_blob().readall().decode(\"utf-8\")\n",
    "    return pd.read_csv(StringIO(blob_data), sep=\";\")\n",
    "\n",
    "# Datasets inladen\n",
    "datasets = {name.split(\".\")[0]: load_data_from_blob(name) for name in BLOB_FILES}\n",
    "\n",
    "target = 'G3'"
   ]
  },
  {
   "cell_type": "code",
   "execution_count": null,
   "metadata": {},
   "outputs": [],
   "source": [
    "# Preprocess data\n",
    "def prepare_data(df, reference_columns=None):\n",
    "    df_dummies = pd.get_dummies(df, drop_first=True)\n",
    "    if reference_columns is not None:\n",
    "        missing_cols = set(reference_columns) - set(df_dummies.columns)\n",
    "        for col in missing_cols:\n",
    "            df_dummies[col] = 0\n",
    "        df_dummies = df_dummies[reference_columns]\n",
    "    return df_dummies\n",
    "\n",
    "first_dataset = next(iter(datasets.values()))\n",
    "first_dummies = prepare_data(first_dataset)\n",
    "reference_columns = first_dummies.columns.tolist()\n",
    "\n",
    "X_train, X_test, y_train, y_test = train_test_split(\n",
    "    first_dummies.drop(columns=[target]), \n",
    "    first_dummies[target], \n",
    "    test_size=0.2, \n",
    "    random_state=42\n",
    ")"
   ]
  },
  {
   "cell_type": "code",
   "execution_count": 5,
   "metadata": {},
   "outputs": [],
   "source": [
    "# Model opslag / inladen\n",
    "class Readwritemodel():\n",
    "    def __init__(self, model=None, filenaam=\"regressie.sav\"):\n",
    "        self.filenaam = filenaam\n",
    "        self.model = model  \n",
    "    \n",
    "    def check_input(self, var):\n",
    "        return isinstance(var, str) and var.endswith(\".sav\")\n",
    "\n",
    "    def opslaanmodel(self):\n",
    "        if self.check_input(self.filenaam):\n",
    "            with open(self.filenaam, 'wb') as file:\n",
    "                pickle.dump(self.model, file)\n",
    "            print(f\"Model opgeslagen als: {self.filenaam}\")\n",
    "    \n",
    "    def inladenmodel(self):\n",
    "        if self.check_input(self.filenaam) and os.path.exists(self.filenaam):\n",
    "            with open(self.filenaam, 'rb') as file:\n",
    "                geladen_model = pickle.load(file)\n",
    "                if is_regressor(geladen_model):\n",
    "                    print(\"Opgeslagen model geladen!\")\n",
    "                    return geladen_model\n",
    "                else:\n",
    "                    print(\"Geen regressiemodel gevonden.\")\n",
    "        print(\"Geen model gevonden. Een nieuw model wordt getraind.\")\n",
    "        return None"
   ]
  },
  {
   "cell_type": "code",
   "execution_count": 6,
   "metadata": {},
   "outputs": [
    {
     "name": "stdout",
     "output_type": "stream",
     "text": [
      "Opgeslagen model geladen!\n"
     ]
    }
   ],
   "source": [
    "# Modelbeheer\n",
    "func = Readwritemodel()\n",
    "model = func.inladenmodel()\n",
    "\n",
    "if model is None:\n",
    "    print(\"Trainen van een nieuw model...\")\n",
    "    model = GradientBoostingRegressor()\n",
    "    model.fit(X_train, y_train)\n",
    "    func.model = model\n",
    "    func.opslaanmodel()"
   ]
  },
  {
   "cell_type": "code",
   "execution_count": 7,
   "metadata": {},
   "outputs": [
    {
     "name": "stdout",
     "output_type": "stream",
     "text": [
      "Verwerken van dataset: student-mat\n",
      "Voorspellingen opgeslagen in student-mat_regression_predictions.csv\n",
      "Verwerken van dataset: student-por\n",
      "Voorspellingen opgeslagen in student-por_regression_predictions.csv\n"
     ]
    }
   ],
   "source": [
    "# Loop door datasets en maak voorspellingen\n",
    "for name, data in datasets.items():\n",
    "    print(f\"Verwerken van dataset: {name}\")\n",
    "    data_dummies = prepare_data(data, reference_columns)\n",
    "    X = data_dummies.drop(columns=[target], errors=\"ignore\")\n",
    "    \n",
    "    y_pred = model.predict(X)\n",
    "    data['Predictions'] = y_pred\n",
    "    \n",
    "    output_filename = f\"{name}_regression_predictions.csv\"\n",
    "    data.to_csv(output_filename, sep=\";\", index=False)\n",
    "    print(f\"Voorspellingen opgeslagen in {output_filename}\")"
   ]
  },
  {
   "cell_type": "code",
   "execution_count": 8,
   "metadata": {},
   "outputs": [
    {
     "name": "stdout",
     "output_type": "stream",
     "text": [
      "Mean Squared Error (MSE): 4.019045672650393\n",
      "R-squared (R²): 0.8039972490622082\n"
     ]
    }
   ],
   "source": [
    "# Evaluatie\n",
    "mse = mean_squared_error(y_test, model.predict(X_test))\n",
    "r2 = r2_score(y_test, model.predict(X_test))\n",
    "print(f\"Mean Squared Error (MSE): {mse}\")\n",
    "print(f\"R-squared (R²): {r2}\")"
   ]
  }
 ],
 "metadata": {
  "kernelspec": {
   "display_name": "venv",
   "language": "python",
   "name": "python3"
  },
  "language_info": {
   "codemirror_mode": {
    "name": "ipython",
    "version": 3
   },
   "file_extension": ".py",
   "mimetype": "text/x-python",
   "name": "python",
   "nbconvert_exporter": "python",
   "pygments_lexer": "ipython3",
   "version": "3.11.9"
  }
 },
 "nbformat": 4,
 "nbformat_minor": 2
}
