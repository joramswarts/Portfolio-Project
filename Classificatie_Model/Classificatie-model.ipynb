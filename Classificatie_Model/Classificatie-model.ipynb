{
 "cells": [
  {
   "cell_type": "code",
   "execution_count": null,
   "metadata": {},
   "outputs": [],
   "source": [
    "import pickle\n",
    "from sklearn.base import is_classifier\n",
    "import pandas as pd\n",
    "from sklearn.model_selection import train_test_split\n",
    "from sklearn.linear_model import LogisticRegression\n",
    "from sklearn.metrics import accuracy_score, confusion_matrix, classification_report"
   ]
  },
  {
   "cell_type": "code",
   "execution_count": null,
   "metadata": {},
   "outputs": [],
   "source": [
    "# 📌 Stap 1: Lees de datasets in\n",
    "datasets = {\n",
    "    \"student-mat\": pd.read_csv(\"C:/Users/xande/Desktop/bit-academy/Portefolio Project/Portfolio-Project/Data/student-mat.csv\", sep=\";\"),\n",
    "    \"student-por\": pd.read_csv(\"C:/Users/xande/Desktop/bit-academy/Portefolio Project/Portfolio-Project/Data/student-por.csv\", sep=\";\")\n",
    "}\n",
    "\n",
    "# Converteer de target naar een binaire classificatie\n",
    "for name, data in datasets.items():\n",
    "    data['G3_class'] = (data['G3'] >= 10).astype(bool)  # True/False classificatie"
   ]
  },
  {
   "cell_type": "code",
   "execution_count": null,
   "metadata": {},
   "outputs": [],
   "source": [
    "# 📌 Stap 2: Preprocess data eerst! (X_train MOET beschikbaar zijn)\n",
    "first_dataset = next(iter(datasets.values()))  # Kies een referentie dataset\n",
    "first_dummies = pd.get_dummies(first_dataset, drop_first=True)\n",
    "\n",
    "X_train, X_test, y_train, y_test = train_test_split(\n",
    "    first_dummies.drop(columns=['G3', 'G3_class']),\n",
    "    first_dummies['G3_class'],\n",
    "    test_size=0.2,\n",
    "    random_state=42\n",
    ")"
   ]
  },
  {
   "cell_type": "code",
   "execution_count": 48,
   "metadata": {},
   "outputs": [],
   "source": [
    "# 📌 Stap 3: Model opslag / inladen\n",
    "class Readwritemodel():\n",
    "    def __init__(self, model=None, filenaam=None):\n",
    "        self.filenaam = filenaam\n",
    "        self.model = model  \n",
    "    \n",
    "    def check_input(self, var):\n",
    "        if isinstance(var, str) and var.endswith(\".sav\"):\n",
    "            return True\n",
    "        else:\n",
    "            print(\"Jouw filenaam moet een string zijn en eindigen met .sav\")\n",
    "            return False\n",
    "\n",
    "    def opslaanmodel(self):\n",
    "        if self.check_input(self.filenaam):\n",
    "            pickle.dump(self.model, open(self.filenaam, 'wb'))\n",
    "            print(f\"Jouw model is opgeslagen onder de naam: {self.filenaam}\")\n",
    "        \n",
    "    def inladenmodel(self):\n",
    "        if self.check_input(self.filenaam):\n",
    "            try:\n",
    "                geladen_model = pickle.load(open(self.filenaam, 'rb'))\n",
    "                if is_classifier(geladen_model):\n",
    "                    print(\"Jouw model is opgehaald en je kan er nu mee voorspellen!\")\n",
    "                    return geladen_model\n",
    "                else:\n",
    "                    print(\"Dit is geen classificatie model\")\n",
    "                    return None\n",
    "            except FileNotFoundError:\n",
    "                print(\"Het modelbestand kan niet gevonden worden. Er wordt een nieuw model getraind.\")\n",
    "                return None \n"
   ]
  },
  {
   "cell_type": "code",
   "execution_count": 49,
   "metadata": {},
   "outputs": [
    {
     "name": "stdout",
     "output_type": "stream",
     "text": [
      "Jouw model is opgehaald en je kan er nu mee voorspellen!\n",
      "Je gebruikt nu een opgeslagen model\n"
     ]
    }
   ],
   "source": [
    "# 📌 Stap 4: Modelbeheer\n",
    "func = Readwritemodel(filenaam=\"classificatie_model.sav\")\n",
    "model = func.inladenmodel()\n",
    "\n",
    "if model is None:\n",
    "    print(\"Ik train een model...\")\n",
    "    model = LogisticRegression(max_iter=1000)\n",
    "    model.fit(X_train, y_train)\n",
    "    func.model = model\n",
    "    func.opslaanmodel()\n",
    "else:\n",
    "    print(\"Je gebruikt nu een opgeslagen model\")"
   ]
  },
  {
   "cell_type": "code",
   "execution_count": 50,
   "metadata": {},
   "outputs": [
    {
     "name": "stdout",
     "output_type": "stream",
     "text": [
      "Verwerken van dataset: student-mat\n",
      "Voorspellingen opgeslagen in student-mat_classification_predictions.csv\n",
      "Verwerken van dataset: student-por\n",
      "Voorspellingen opgeslagen in student-por_classification_predictions.csv\n"
     ]
    }
   ],
   "source": [
    "# 📌 Stap 5: Loop door beide datasets en maak voorspellingen\n",
    "for name, data in datasets.items():\n",
    "    print(f\"Verwerken van dataset: {name}\")\n",
    "    data_dummies = pd.get_dummies(data, drop_first=True)\n",
    "    X = data_dummies.drop(columns=['G3', 'G3_class'], errors=\"ignore\")\n",
    "    \n",
    "    # ✅ FIX: Controleer of `X_train` beschikbaar is\n",
    "    if 'X_train' not in globals():\n",
    "        raise NameError(\"⚠️ FOUT: X_train is niet gedefinieerd!\")\n",
    "\n",
    "    # 📌 Zorg dat kolommen overeenkomen\n",
    "    missing_cols = set(X_train.columns) - set(X.columns)\n",
    "    for col in missing_cols:\n",
    "        X[col] = 0  # Voeg ontbrekende kolommen toe\n",
    "    \n",
    "    X = X[X_train.columns]  # Zorg dat X dezelfde kolomvolgorde heeft als de training set\n",
    "    \n",
    "    y_pred = model.predict(X)\n",
    "    data['Predictions'] = y_pred\n",
    "    \n",
    "    output_filename = f\"{name}_classification_predictions.csv\"\n",
    "    data.to_csv(output_filename, sep=\";\", index=False)\n",
    "    print(f\"Voorspellingen opgeslagen in {output_filename}\")"
   ]
  },
  {
   "cell_type": "code",
   "execution_count": 51,
   "metadata": {},
   "outputs": [
    {
     "name": "stdout",
     "output_type": "stream",
     "text": [
      "Accuracy: 0.9240506329113924\n",
      "Confusion Matrix:\n",
      "[[25  2]\n",
      " [ 4 48]]\n",
      "Classification Report:\n",
      "              precision    recall  f1-score   support\n",
      "\n",
      "       False       0.86      0.93      0.89        27\n",
      "        True       0.96      0.92      0.94        52\n",
      "\n",
      "    accuracy                           0.92        79\n",
      "   macro avg       0.91      0.92      0.92        79\n",
      "weighted avg       0.93      0.92      0.92        79\n",
      "\n"
     ]
    }
   ],
   "source": [
    "# 📌 Stap 7: Evaluatie op de testset\n",
    "accuracy = accuracy_score(y_test, model.predict(X_test))\n",
    "print(f\"Accuracy: {accuracy}\")\n",
    "print(\"Confusion Matrix:\")\n",
    "print(confusion_matrix(y_test, model.predict(X_test)))\n",
    "print(\"Classification Report:\")\n",
    "print(classification_report(y_test, model.predict(X_test)))\n"
   ]
  }
 ],
 "metadata": {
  "kernelspec": {
   "display_name": "venv",
   "language": "python",
   "name": "python3"
  },
  "language_info": {
   "codemirror_mode": {
    "name": "ipython",
    "version": 3
   },
   "file_extension": ".py",
   "mimetype": "text/x-python",
   "name": "python",
   "nbconvert_exporter": "python",
   "pygments_lexer": "ipython3",
   "version": "3.11.9"
  }
 },
 "nbformat": 4,
 "nbformat_minor": 2
}
